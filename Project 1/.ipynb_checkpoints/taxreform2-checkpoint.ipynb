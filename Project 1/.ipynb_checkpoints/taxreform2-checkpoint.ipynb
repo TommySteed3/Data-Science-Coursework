{
 "cells": [
  {
   "cell_type": "code",
   "execution_count": null,
   "metadata": {
    "collapsed": true
   },
   "outputs": [],
   "source": [
    "import numpy as np\n",
    "import pandas as pd\n",
    "import matplotlib.pyplot as plt\n",
    "from datetime import datetime\n",
    "import seaborn as sns\n",
    "import codecs, json, time, re, tweepy\n",
    "from vaderSentiment.vaderSentiment import SentimentIntensityAnalyzer\n",
    "analyzer = SentimentIntensityAnalyzer()\n"
   ]
  },
  {
   "cell_type": "code",
   "execution_count": null,
   "metadata": {},
   "outputs": [],
   "source": [
    "with codecs.open('../Scrape_Twitter_for_Tweets/twitterscraper/taxreform2.json', 'r', 'utf-8') as f:\n",
    "    tweets = json.load(f, encoding='utf-8')"
   ]
  },
  {
   "cell_type": "code",
   "execution_count": null,
   "metadata": {},
   "outputs": [],
   "source": [
    "df = pd.DataFrame(tweets)\n",
    "df[\"timestamp\"].nunique()"
   ]
  },
  {
   "cell_type": "code",
   "execution_count": null,
   "metadata": {
    "scrolled": true
   },
   "outputs": [],
   "source": [
    "df.info()"
   ]
  },
  {
   "cell_type": "code",
   "execution_count": null,
   "metadata": {},
   "outputs": [],
   "source": [
    "Date = []\n",
    "Time = []\n",
    "for time in df[\"timestamp\"]:\n",
    "    Date.append(datetime.strptime(time.replace(\"T\",\" \"), \"%Y-%m-%d %H:%M:%S\").strftime('%m-%d-%Y'))\n",
    "    Time.append(datetime.strptime(time.replace(\"T\",\" \"), \"%Y-%m-%d %H:%M:%S\").strftime('%H:%M:%S'))\n",
    "    print('.', end='')\n",
    "\n",
    "df[\"Date\"] = Date\n",
    "df[\"Time\"] = Time  \n",
    "df"
   ]
  },
  {
   "cell_type": "code",
   "execution_count": null,
   "metadata": {
    "scrolled": true
   },
   "outputs": [],
   "source": [
    "df = df.loc[:,[\"user\",\"text\",\"Date\"]]\n",
    "df"
   ]
  },
  {
   "cell_type": "code",
   "execution_count": null,
   "metadata": {},
   "outputs": [],
   "source": [
    "compound_list = []\n",
    "\n",
    "for tweet in df[\"text\"]:\n",
    "    compound = analyzer.polarity_scores(tweet)[\"compound\"]\n",
    "    compound_list.append(compound)\n",
    "\n",
    "df[\"Compound\"] = compound_list\n",
    "df"
   ]
  },
  {
   "cell_type": "code",
   "execution_count": null,
   "metadata": {},
   "outputs": [],
   "source": [
    "df_mean = df.groupby([\"Date\"])[\"Compound\"].mean()\n",
    "df_mean"
   ]
  },
  {
   "cell_type": "code",
   "execution_count": null,
   "metadata": {
    "collapsed": true
   },
   "outputs": [],
   "source": []
  }
 ],
 "metadata": {
  "kernelspec": {
   "display_name": "Python 3",
   "language": "python",
   "name": "python3"
  },
  "language_info": {
   "codemirror_mode": {
    "name": "ipython",
    "version": 3
   },
   "file_extension": ".py",
   "mimetype": "text/x-python",
   "name": "python",
   "nbconvert_exporter": "python",
   "pygments_lexer": "ipython3",
   "version": "3.6.2"
  }
 },
 "nbformat": 4,
 "nbformat_minor": 2
}
