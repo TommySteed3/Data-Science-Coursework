{
 "cells": [
  {
   "cell_type": "code",
   "execution_count": 5,
   "metadata": {},
   "outputs": [
    {
     "name": "stdout",
     "output_type": "stream",
     "text": [
      "<twitterscraper.tweet.Tweet object at 0x115565fd0>\n",
      "<twitterscraper.tweet.Tweet object at 0x115565f98>\n",
      "<twitterscraper.tweet.Tweet object at 0x115565f60>\n",
      "<twitterscraper.tweet.Tweet object at 0x115565f28>\n",
      "<twitterscraper.tweet.Tweet object at 0x115565ef0>\n",
      "<twitterscraper.tweet.Tweet object at 0x115565eb8>\n",
      "<twitterscraper.tweet.Tweet object at 0x115565e80>\n",
      "<twitterscraper.tweet.Tweet object at 0x115565e48>\n",
      "<twitterscraper.tweet.Tweet object at 0x115565e10>\n",
      "<twitterscraper.tweet.Tweet object at 0x115565dd8>\n",
      "<twitterscraper.tweet.Tweet object at 0x115565da0>\n",
      "<twitterscraper.tweet.Tweet object at 0x115565d30>\n",
      "<twitterscraper.tweet.Tweet object at 0x115565cf8>\n",
      "<twitterscraper.tweet.Tweet object at 0x115565c88>\n",
      "<twitterscraper.tweet.Tweet object at 0x115565c50>\n",
      "<twitterscraper.tweet.Tweet object at 0x115565c18>\n",
      "<twitterscraper.tweet.Tweet object at 0x115565be0>\n",
      "<twitterscraper.tweet.Tweet object at 0x115565ba8>\n",
      "<twitterscraper.tweet.Tweet object at 0x115565b00>\n",
      "<twitterscraper.tweet.Tweet object at 0x115565a20>\n"
     ]
    }
   ],
   "source": [
    "from twitterscraper import query_tweets\n",
    "list_of_tweets = query_tweets(\"Trump OR Clinton\", 10)\n",
    "\n",
    "#print the retrieved tweets to the screen:\n",
    "for tweet in query_tweets(\"Trump OR Clinton\", 10):\n",
    "    print(tweet)\n",
    "    "
   ]
  },
  {
   "cell_type": "code",
   "execution_count": null,
   "metadata": {
    "collapsed": true
   },
   "outputs": [],
   "source": []
  }
 ],
 "metadata": {
  "kernelspec": {
   "display_name": "Python [conda root]",
   "language": "python",
   "name": "conda-root-py"
  },
  "language_info": {
   "codemirror_mode": {
    "name": "ipython",
    "version": 3
   },
   "file_extension": ".py",
   "mimetype": "text/x-python",
   "name": "python",
   "nbconvert_exporter": "python",
   "pygments_lexer": "ipython3",
   "version": "3.6.2"
  }
 },
 "nbformat": 4,
 "nbformat_minor": 2
}
