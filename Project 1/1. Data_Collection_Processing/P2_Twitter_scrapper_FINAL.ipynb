{
 "cells": [
  {
   "cell_type": "code",
   "execution_count": 1,
   "metadata": {
    "collapsed": true
   },
   "outputs": [],
   "source": [
    "import pandas as pd \n",
    "import requests as req\n",
    "import json \n",
    "import datetime as datetime\n",
    "import numpy as np\n",
    "import seaborn as sns\n",
    "import matplotlib as plt"
   ]
  },
  {
   "cell_type": "code",
   "execution_count": 2,
   "metadata": {
    "collapsed": true
   },
   "outputs": [],
   "source": [
    "from vaderSentiment.vaderSentiment import SentimentIntensityAnalyzer\n",
    "analyzer = SentimentIntensityAnalyzer()"
   ]
  },
  {
   "cell_type": "code",
   "execution_count": 3,
   "metadata": {
    "collapsed": true
   },
   "outputs": [],
   "source": [
    "json = ('NovDecDataUser.json')\n",
    "\n",
    "df = pd.read_json(json)"
   ]
  },
  {
   "cell_type": "code",
   "execution_count": 4,
   "metadata": {
    "scrolled": false
   },
   "outputs": [
    {
     "data": {
      "text/html": [
       "<div>\n",
       "<style>\n",
       "    .dataframe thead tr:only-child th {\n",
       "        text-align: right;\n",
       "    }\n",
       "\n",
       "    .dataframe thead th {\n",
       "        text-align: left;\n",
       "    }\n",
       "\n",
       "    .dataframe tbody tr th {\n",
       "        vertical-align: top;\n",
       "    }\n",
       "</style>\n",
       "<table border=\"1\" class=\"dataframe\">\n",
       "  <thead>\n",
       "    <tr style=\"text-align: right;\">\n",
       "      <th></th>\n",
       "      <th>fullname</th>\n",
       "      <th>id</th>\n",
       "      <th>likes</th>\n",
       "      <th>replies</th>\n",
       "      <th>retweets</th>\n",
       "      <th>text</th>\n",
       "      <th>timestamp</th>\n",
       "      <th>url</th>\n",
       "      <th>user</th>\n",
       "    </tr>\n",
       "  </thead>\n",
       "  <tbody>\n",
       "    <tr>\n",
       "      <th>12376</th>\n",
       "      <td>The Motley Fool</td>\n",
       "      <td>941816438775353344</td>\n",
       "      <td>16</td>\n",
       "      <td>0</td>\n",
       "      <td>9</td>\n",
       "      <td>Say bye-bye to the Easy-Money Fed.https://www....</td>\n",
       "      <td>2017-12-15 23:45:11</td>\n",
       "      <td>/themotleyfool/status/941816438775353344</td>\n",
       "      <td>themotleyfool</td>\n",
       "    </tr>\n",
       "    <tr>\n",
       "      <th>12377</th>\n",
       "      <td>CNBC</td>\n",
       "      <td>941817208908398592</td>\n",
       "      <td>16</td>\n",
       "      <td>0</td>\n",
       "      <td>4</td>\n",
       "      <td>Buy Cisco when it goes below $38, @JimCramer s...</td>\n",
       "      <td>2017-12-15 23:48:15</td>\n",
       "      <td>/CNBC/status/941817208908398592</td>\n",
       "      <td>CNBC</td>\n",
       "    </tr>\n",
       "    <tr>\n",
       "      <th>12378</th>\n",
       "      <td>WSJ Markets</td>\n",
       "      <td>941817697825841152</td>\n",
       "      <td>3</td>\n",
       "      <td>0</td>\n",
       "      <td>4</td>\n",
       "      <td>Railroad CSX paid a princely sum to snag an in...</td>\n",
       "      <td>2017-12-15 23:50:11</td>\n",
       "      <td>/WSJmarkets/status/941817697825841152</td>\n",
       "      <td>WSJmarkets</td>\n",
       "    </tr>\n",
       "    <tr>\n",
       "      <th>12379</th>\n",
       "      <td>CNBC</td>\n",
       "      <td>941819438638120960</td>\n",
       "      <td>10</td>\n",
       "      <td>5</td>\n",
       "      <td>1</td>\n",
       "      <td>.@JimCramer's fireside chat: Tax reform will '...</td>\n",
       "      <td>2017-12-15 23:57:06</td>\n",
       "      <td>/CNBC/status/941819438638120960</td>\n",
       "      <td>CNBC</td>\n",
       "    </tr>\n",
       "    <tr>\n",
       "      <th>12380</th>\n",
       "      <td>CNBC</td>\n",
       "      <td>941820148670795776</td>\n",
       "      <td>10</td>\n",
       "      <td>3</td>\n",
       "      <td>3</td>\n",
       "      <td>Cramer Remix: My biggest worry in this marketh...</td>\n",
       "      <td>2017-12-15 23:59:56</td>\n",
       "      <td>/CNBC/status/941820148670795776</td>\n",
       "      <td>CNBC</td>\n",
       "    </tr>\n",
       "  </tbody>\n",
       "</table>\n",
       "</div>"
      ],
      "text/plain": [
       "              fullname                  id  likes  replies  retweets  \\\n",
       "12376  The Motley Fool  941816438775353344     16        0         9   \n",
       "12377             CNBC  941817208908398592     16        0         4   \n",
       "12378      WSJ Markets  941817697825841152      3        0         4   \n",
       "12379             CNBC  941819438638120960     10        5         1   \n",
       "12380             CNBC  941820148670795776     10        3         3   \n",
       "\n",
       "                                                    text           timestamp  \\\n",
       "12376  Say bye-bye to the Easy-Money Fed.https://www.... 2017-12-15 23:45:11   \n",
       "12377  Buy Cisco when it goes below $38, @JimCramer s... 2017-12-15 23:48:15   \n",
       "12378  Railroad CSX paid a princely sum to snag an in... 2017-12-15 23:50:11   \n",
       "12379  .@JimCramer's fireside chat: Tax reform will '... 2017-12-15 23:57:06   \n",
       "12380  Cramer Remix: My biggest worry in this marketh... 2017-12-15 23:59:56   \n",
       "\n",
       "                                            url           user  \n",
       "12376  /themotleyfool/status/941816438775353344  themotleyfool  \n",
       "12377           /CNBC/status/941817208908398592           CNBC  \n",
       "12378     /WSJmarkets/status/941817697825841152     WSJmarkets  \n",
       "12379           /CNBC/status/941819438638120960           CNBC  \n",
       "12380           /CNBC/status/941820148670795776           CNBC  "
      ]
     },
     "execution_count": 4,
     "metadata": {},
     "output_type": "execute_result"
    }
   ],
   "source": [
    "df.tail()"
   ]
  },
  {
   "cell_type": "code",
   "execution_count": 5,
   "metadata": {},
   "outputs": [
    {
     "data": {
      "text/plain": [
       "array(['Jim Cramer', 'WSJ Markets', 'CNBC', 'Financial Times', 'CNNMoney',\n",
       "       'Justin Wolfers', 'The Motley Fool', 'Bloomberg Markets',\n",
       "       'Paul Krugman'], dtype=object)"
      ]
     },
     "execution_count": 5,
     "metadata": {},
     "output_type": "execute_result"
    }
   ],
   "source": [
    "df['fullname'].unique()"
   ]
  },
  {
   "cell_type": "code",
   "execution_count": null,
   "metadata": {
    "collapsed": true
   },
   "outputs": [],
   "source": []
  },
  {
   "cell_type": "code",
   "execution_count": 6,
   "metadata": {
    "collapsed": true
   },
   "outputs": [],
   "source": [
    "text_sentiment_compound  = []\n",
    "for i in df['text']:\n",
    "    compound = analyzer.polarity_scores(i)['compound']\n",
    "    text_sentiment_compound.append(compound)"
   ]
  },
  {
   "cell_type": "code",
   "execution_count": 7,
   "metadata": {
    "collapsed": true
   },
   "outputs": [],
   "source": [
    "df['Compound']=text_sentiment_compound"
   ]
  },
  {
   "cell_type": "code",
   "execution_count": 8,
   "metadata": {},
   "outputs": [
    {
     "name": "stdout",
     "output_type": "stream",
     "text": [
      "<class 'pandas.core.frame.DataFrame'>\n",
      "Int64Index: 12381 entries, 0 to 12380\n",
      "Data columns (total 10 columns):\n",
      "fullname     12381 non-null object\n",
      "id           12381 non-null int64\n",
      "likes        12381 non-null int64\n",
      "replies      12381 non-null int64\n",
      "retweets     12381 non-null int64\n",
      "text         12381 non-null object\n",
      "timestamp    12381 non-null datetime64[ns]\n",
      "url          12381 non-null object\n",
      "user         12381 non-null object\n",
      "Compound     12381 non-null float64\n",
      "dtypes: datetime64[ns](1), float64(1), int64(4), object(4)\n",
      "memory usage: 1.0+ MB\n"
     ]
    }
   ],
   "source": [
    "df.info()"
   ]
  },
  {
   "cell_type": "code",
   "execution_count": 9,
   "metadata": {
    "collapsed": true
   },
   "outputs": [],
   "source": [
    "df['Date']=df['timestamp'].map(lambda x: x.date())"
   ]
  },
  {
   "cell_type": "code",
   "execution_count": 10,
   "metadata": {
    "collapsed": true
   },
   "outputs": [],
   "source": [
    "df['UserName'] = df['fullname']"
   ]
  },
  {
   "cell_type": "code",
   "execution_count": 11,
   "metadata": {
    "collapsed": true
   },
   "outputs": [],
   "source": [
    "#use the rename(columns={})\n",
    "df_cleaned_headers = df[['UserName','Date','Compound']]"
   ]
  },
  {
   "cell_type": "code",
   "execution_count": 12,
   "metadata": {
    "collapsed": true
   },
   "outputs": [],
   "source": [
    "#get rid of all compounds with a score of equal to zero\n",
    "df_cleaned_headers = df_cleaned_headers.loc[(df_cleaned_headers['Compound']>0) | (df_cleaned_headers['Compound'] <0)]"
   ]
  },
  {
   "cell_type": "code",
   "execution_count": 13,
   "metadata": {
    "collapsed": true
   },
   "outputs": [],
   "source": [
    "df_cleaned_compound = df_cleaned_headers.reset_index(drop=True)"
   ]
  },
  {
   "cell_type": "code",
   "execution_count": 14,
   "metadata": {},
   "outputs": [
    {
     "data": {
      "text/html": [
       "<div>\n",
       "<style>\n",
       "    .dataframe thead tr:only-child th {\n",
       "        text-align: right;\n",
       "    }\n",
       "\n",
       "    .dataframe thead th {\n",
       "        text-align: left;\n",
       "    }\n",
       "\n",
       "    .dataframe tbody tr th {\n",
       "        vertical-align: top;\n",
       "    }\n",
       "</style>\n",
       "<table border=\"1\" class=\"dataframe\">\n",
       "  <thead>\n",
       "    <tr style=\"text-align: right;\">\n",
       "      <th></th>\n",
       "      <th>UserName</th>\n",
       "      <th>Date</th>\n",
       "      <th>Compound</th>\n",
       "    </tr>\n",
       "  </thead>\n",
       "  <tbody>\n",
       "    <tr>\n",
       "      <th>0</th>\n",
       "      <td>Jim Cramer</td>\n",
       "      <td>2017-11-15</td>\n",
       "      <td>0.8612</td>\n",
       "    </tr>\n",
       "    <tr>\n",
       "      <th>1</th>\n",
       "      <td>Jim Cramer</td>\n",
       "      <td>2017-11-15</td>\n",
       "      <td>0.4199</td>\n",
       "    </tr>\n",
       "    <tr>\n",
       "      <th>2</th>\n",
       "      <td>Jim Cramer</td>\n",
       "      <td>2017-11-15</td>\n",
       "      <td>0.7263</td>\n",
       "    </tr>\n",
       "    <tr>\n",
       "      <th>3</th>\n",
       "      <td>Financial Times</td>\n",
       "      <td>2017-11-15</td>\n",
       "      <td>0.4939</td>\n",
       "    </tr>\n",
       "    <tr>\n",
       "      <th>4</th>\n",
       "      <td>CNNMoney</td>\n",
       "      <td>2017-11-15</td>\n",
       "      <td>-0.8677</td>\n",
       "    </tr>\n",
       "  </tbody>\n",
       "</table>\n",
       "</div>"
      ],
      "text/plain": [
       "          UserName       Date  Compound\n",
       "0       Jim Cramer 2017-11-15    0.8612\n",
       "1       Jim Cramer 2017-11-15    0.4199\n",
       "2       Jim Cramer 2017-11-15    0.7263\n",
       "3  Financial Times 2017-11-15    0.4939\n",
       "4         CNNMoney 2017-11-15   -0.8677"
      ]
     },
     "execution_count": 14,
     "metadata": {},
     "output_type": "execute_result"
    }
   ],
   "source": [
    "from pandas_datareader import data\n",
    "import matplotlib.pyplot as plt\n",
    "import warnings\n",
    "\n",
    "df_cleaned_compound['Date'] = pd.to_datetime(df_cleaned_compound['Date'])\n",
    "df_cleaned_compound.head()"
   ]
  },
  {
   "cell_type": "code",
   "execution_count": 15,
   "metadata": {},
   "outputs": [],
   "source": [
    "df_cleaned_compound = df_cleaned_compound.set_index(\"Date\")"
   ]
  },
  {
   "cell_type": "code",
   "execution_count": 20,
   "metadata": {
    "scrolled": true
   },
   "outputs": [],
   "source": [
    "user_dated = df_cleaned_compound.ix['2017-12-01':'2017-12-14']"
   ]
  },
  {
   "cell_type": "code",
   "execution_count": 21,
   "metadata": {},
   "outputs": [
    {
     "data": {
      "text/html": [
       "<div>\n",
       "<style>\n",
       "    .dataframe thead tr:only-child th {\n",
       "        text-align: right;\n",
       "    }\n",
       "\n",
       "    .dataframe thead th {\n",
       "        text-align: left;\n",
       "    }\n",
       "\n",
       "    .dataframe tbody tr th {\n",
       "        vertical-align: top;\n",
       "    }\n",
       "</style>\n",
       "<table border=\"1\" class=\"dataframe\">\n",
       "  <thead>\n",
       "    <tr style=\"text-align: right;\">\n",
       "      <th></th>\n",
       "      <th>UserName</th>\n",
       "      <th>Compound</th>\n",
       "    </tr>\n",
       "    <tr>\n",
       "      <th>Date</th>\n",
       "      <th></th>\n",
       "      <th></th>\n",
       "    </tr>\n",
       "  </thead>\n",
       "  <tbody>\n",
       "    <tr>\n",
       "      <th>2017-12-01</th>\n",
       "      <td>CNNMoney</td>\n",
       "      <td>0.0516</td>\n",
       "    </tr>\n",
       "    <tr>\n",
       "      <th>2017-12-01</th>\n",
       "      <td>WSJ Markets</td>\n",
       "      <td>0.0258</td>\n",
       "    </tr>\n",
       "    <tr>\n",
       "      <th>2017-12-01</th>\n",
       "      <td>CNBC</td>\n",
       "      <td>-0.5334</td>\n",
       "    </tr>\n",
       "    <tr>\n",
       "      <th>2017-12-01</th>\n",
       "      <td>CNBC</td>\n",
       "      <td>0.4404</td>\n",
       "    </tr>\n",
       "    <tr>\n",
       "      <th>2017-12-01</th>\n",
       "      <td>Financial Times</td>\n",
       "      <td>0.1280</td>\n",
       "    </tr>\n",
       "  </tbody>\n",
       "</table>\n",
       "</div>"
      ],
      "text/plain": [
       "                   UserName  Compound\n",
       "Date                                 \n",
       "2017-12-01         CNNMoney    0.0516\n",
       "2017-12-01      WSJ Markets    0.0258\n",
       "2017-12-01             CNBC   -0.5334\n",
       "2017-12-01             CNBC    0.4404\n",
       "2017-12-01  Financial Times    0.1280"
      ]
     },
     "execution_count": 21,
     "metadata": {},
     "output_type": "execute_result"
    }
   ],
   "source": [
    "user_dated.head()"
   ]
  },
  {
   "cell_type": "code",
   "execution_count": 22,
   "metadata": {},
   "outputs": [],
   "source": [
    "user_dated.groupby([\"UserName\"])[\"Compound\"].mean()\n",
    "user_dated.to_csv(\"TargetUsers.csv\")\n"
   ]
  },
  {
   "cell_type": "code",
   "execution_count": 23,
   "metadata": {},
   "outputs": [
    {
     "name": "stdout",
     "output_type": "stream",
     "text": [
      "<class 'pandas.core.frame.DataFrame'>\n",
      "DatetimeIndex: 3283 entries, 2017-12-01 to 2017-12-14\n",
      "Data columns (total 2 columns):\n",
      "UserName    3283 non-null object\n",
      "Compound    3283 non-null float64\n",
      "dtypes: float64(1), object(1)\n",
      "memory usage: 76.9+ KB\n"
     ]
    }
   ],
   "source": [
    "user_dated.info()"
   ]
  },
  {
   "cell_type": "code",
   "execution_count": null,
   "metadata": {
    "collapsed": true
   },
   "outputs": [],
   "source": []
  }
 ],
 "metadata": {
  "kernelspec": {
   "display_name": "Python 3",
   "language": "python",
   "name": "python3"
  },
  "language_info": {
   "codemirror_mode": {
    "name": "ipython",
    "version": 3
   },
   "file_extension": ".py",
   "mimetype": "text/x-python",
   "name": "python",
   "nbconvert_exporter": "python",
   "pygments_lexer": "ipython3",
   "version": "3.6.2"
  }
 },
 "nbformat": 4,
 "nbformat_minor": 2
}
