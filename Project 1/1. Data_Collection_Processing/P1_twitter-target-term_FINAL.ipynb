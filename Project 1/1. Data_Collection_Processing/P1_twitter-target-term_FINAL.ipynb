{
 "cells": [
  {
   "cell_type": "code",
   "execution_count": 1,
   "metadata": {
    "collapsed": true
   },
   "outputs": [],
   "source": [
    "import pandas as pd \n",
    "import requests as req\n",
    "import json \n",
    "import datetime as dt\n",
    "import numpy as np\n",
    "import seaborn as sns\n",
    "import matplotlib as plt"
   ]
  },
  {
   "cell_type": "code",
   "execution_count": 2,
   "metadata": {
    "collapsed": true
   },
   "outputs": [],
   "source": [
    "from vaderSentiment.vaderSentiment import SentimentIntensityAnalyzer\n",
    "analyzer = SentimentIntensityAnalyzer()"
   ]
  },
  {
   "cell_type": "code",
   "execution_count": 3,
   "metadata": {
    "collapsed": true
   },
   "outputs": [],
   "source": [
    "json_NYSE = ('NYSE.json')\n",
    "df_NYSE = pd.read_json(json_NYSE)\n",
    "#df_NYSE.tail()"
   ]
  },
  {
   "cell_type": "code",
   "execution_count": 4,
   "metadata": {
    "collapsed": true
   },
   "outputs": [],
   "source": [
    "text_sentiment_compound_NYSE  = []\n",
    "for i in df_NYSE['text']:\n",
    "    compound = analyzer.polarity_scores(i)['compound']\n",
    "    text_sentiment_compound_NYSE.append(compound)"
   ]
  },
  {
   "cell_type": "code",
   "execution_count": 5,
   "metadata": {
    "collapsed": true
   },
   "outputs": [],
   "source": [
    "df_NYSE['Compound_NYSE']=text_sentiment_compound_NYSE\n",
    "#df_NYSE.info()"
   ]
  },
  {
   "cell_type": "code",
   "execution_count": 6,
   "metadata": {
    "collapsed": true
   },
   "outputs": [],
   "source": [
    "df_NYSE['Date']=df_NYSE['timestamp'].map(lambda x: x.date())\n",
    "\n",
    "#use the rename(columns={})\n",
    "df_NYSE_cleaned_headers = df_NYSE[['Date','Compound_NYSE']]\n",
    "\n",
    "#get rid of all compounds with a score of equal to zero\n",
    "df_NYSE_cleaned_headers = df_NYSE_cleaned_headers.loc[(df_NYSE_cleaned_headers['Compound_NYSE']>0) | (df_NYSE_cleaned_headers['Compound_NYSE'] <0)]\n",
    "\n",
    "df_NYSE_cleaned_compound_NYSE = df_NYSE_cleaned_headers.reset_index(drop=True)\n",
    "\n",
    "mean_compound_NYSE=df_NYSE_cleaned_compound_NYSE.groupby(\"Date\")[\"Compound_NYSE\"].mean()\n",
    "\n",
    "#mean_compound_NYSE\n",
    "df_mean_compound_NYSE=pd.DataFrame(mean_compound_NYSE)\n",
    "df_mean_compound_NYSE.to_csv(\"NYSE.csv\")\n",
    "#df_mean_compound_NYSE"
   ]
  },
  {
   "cell_type": "code",
   "execution_count": 7,
   "metadata": {
    "collapsed": true
   },
   "outputs": [],
   "source": [
    "json_NASDAQ = ('NASDAQ.json')\n",
    "df_NASDAQ = pd.read_json(json_NASDAQ)\n",
    "#df_NASDAQ.tail()"
   ]
  },
  {
   "cell_type": "code",
   "execution_count": 8,
   "metadata": {
    "collapsed": true
   },
   "outputs": [],
   "source": [
    "text_sentiment_compound_NASDAQ  = []\n",
    "for i in df_NASDAQ['text']:\n",
    "    compound = analyzer.polarity_scores(i)['compound']\n",
    "    text_sentiment_compound_NASDAQ.append(compound)"
   ]
  },
  {
   "cell_type": "code",
   "execution_count": 9,
   "metadata": {
    "collapsed": true
   },
   "outputs": [],
   "source": [
    "df_NASDAQ['Compound_NASDAQ']=text_sentiment_compound_NASDAQ\n",
    "#df_NASDAQ.info()"
   ]
  },
  {
   "cell_type": "code",
   "execution_count": 10,
   "metadata": {
    "collapsed": true
   },
   "outputs": [],
   "source": [
    "df_NASDAQ['Date']=df_NASDAQ['timestamp'].map(lambda x: x.date())\n",
    "\n",
    "#use the rename(columns={})\n",
    "df_NASDAQ_cleaned_headers = df_NASDAQ[['Date','Compound_NASDAQ']]\n",
    "\n",
    "#get rid of all compounds with a score of equal to zero\n",
    "df_NASDAQ_cleaned_headers = df_NASDAQ_cleaned_headers.loc[(df_NASDAQ_cleaned_headers['Compound_NASDAQ']>0) | (df_NASDAQ_cleaned_headers['Compound_NASDAQ'] <0)]\n",
    "\n",
    "df_NASDAQ_cleaned_compound_NASDAQ = df_NASDAQ_cleaned_headers.reset_index(drop=True)\n",
    "\n",
    "mean_compound_NASDAQ=df_NASDAQ_cleaned_compound_NASDAQ.groupby(\"Date\")[\"Compound_NASDAQ\"].mean()\n",
    "\n",
    "#mean_compound_NASDAQ\n",
    "df_mean_compound_NASDAQ=pd.DataFrame(mean_compound_NASDAQ)\n",
    "df_mean_compound_NASDAQ.to_csv(\"NASDAQ.csv\")\n",
    "#df_mean_compound_NASDAQ"
   ]
  },
  {
   "cell_type": "code",
   "execution_count": 11,
   "metadata": {
    "collapsed": true
   },
   "outputs": [],
   "source": [
    "json_DowJones = ('DowJones.json')\n",
    "df_DowJones = pd.read_json(json_DowJones)\n",
    "#df_NASDAQ.tail()"
   ]
  },
  {
   "cell_type": "code",
   "execution_count": 12,
   "metadata": {
    "collapsed": true
   },
   "outputs": [],
   "source": [
    "text_sentiment_compound_DowJones  = []\n",
    "for i in df_DowJones['text']:\n",
    "    compound = analyzer.polarity_scores(i)['compound']\n",
    "    text_sentiment_compound_DowJones.append(compound)"
   ]
  },
  {
   "cell_type": "code",
   "execution_count": 13,
   "metadata": {
    "collapsed": true
   },
   "outputs": [],
   "source": [
    "df_DowJones['Compound_DowJones']=text_sentiment_compound_DowJones\n",
    "#df_DowJones.info()"
   ]
  },
  {
   "cell_type": "code",
   "execution_count": 14,
   "metadata": {
    "collapsed": true
   },
   "outputs": [],
   "source": [
    "df_DowJones['Date']=df_DowJones['timestamp'].map(lambda x: x.date())\n",
    "\n",
    "#use the rename(columns={})\n",
    "df_DowJones_cleaned_headers = df_DowJones[['Date','Compound_DowJones']]\n",
    "\n",
    "#get rid of all compounds with a score of equal to zero\n",
    "df_DowJones_cleaned_headers = df_DowJones_cleaned_headers.loc[(df_DowJones_cleaned_headers['Compound_DowJones']>0) | (df_DowJones_cleaned_headers['Compound_DowJones'] <0)]\n",
    "\n",
    "df_DowJones_cleaned_compound_DowJones = df_DowJones_cleaned_headers.reset_index(drop=True)\n",
    "\n",
    "mean_compound_DowJones=df_DowJones_cleaned_compound_DowJones.groupby(\"Date\")[\"Compound_DowJones\"].mean()\n",
    "\n",
    "#mean_compound_DowJones\n",
    "df_mean_compound_DowJones=pd.DataFrame(mean_compound_DowJones)\n",
    "df_mean_compound_DowJones.to_csv(\"DowJones.csv\")\n",
    "#df_mean_compound_DowJones"
   ]
  },
  {
   "cell_type": "code",
   "execution_count": 15,
   "metadata": {
    "collapsed": true
   },
   "outputs": [],
   "source": [
    "json_stockmarket = ('stockmarket.json')\n",
    "df_stockmarket = pd.read_json(json_stockmarket)\n",
    "#df_stockmarket.tail()"
   ]
  },
  {
   "cell_type": "code",
   "execution_count": 16,
   "metadata": {
    "collapsed": true
   },
   "outputs": [],
   "source": [
    "text_sentiment_compound_stockmarket  = []\n",
    "for i in df_stockmarket['text']:\n",
    "    compound = analyzer.polarity_scores(i)['compound']\n",
    "    text_sentiment_compound_stockmarket.append(compound)"
   ]
  },
  {
   "cell_type": "code",
   "execution_count": 17,
   "metadata": {
    "collapsed": true
   },
   "outputs": [],
   "source": [
    "df_stockmarket['Compound_stockmarket']=text_sentiment_compound_stockmarket\n",
    "#df_stockmarket.info()"
   ]
  },
  {
   "cell_type": "code",
   "execution_count": 18,
   "metadata": {
    "collapsed": true
   },
   "outputs": [],
   "source": [
    "df_stockmarket['Date']=df_stockmarket['timestamp'].map(lambda x: x.date())\n",
    "\n",
    "#use the rename(columns={})\n",
    "df_stockmarket_cleaned_headers = df_stockmarket[['Date','Compound_stockmarket']]\n",
    "\n",
    "#get rid of all compounds with a score of equal to zero\n",
    "df_stockmarket_cleaned_headers = df_stockmarket_cleaned_headers.loc[(df_stockmarket_cleaned_headers['Compound_stockmarket']>0) | (df_stockmarket_cleaned_headers['Compound_stockmarket'] <0)]\n",
    "\n",
    "df_stockmarket_cleaned_compound_stockmarket = df_stockmarket_cleaned_headers.reset_index(drop=True)\n",
    "\n",
    "mean_compound_stockmarket=df_stockmarket_cleaned_compound_stockmarket.groupby(\"Date\")[\"Compound_stockmarket\"].mean()\n",
    "\n",
    "#mean_compound_stockmarket\n",
    "df_mean_compound_stockmarket=pd.DataFrame(mean_compound_stockmarket)\n",
    "df_mean_compound_stockmarket.to_csv(\"stockmarket.csv\")\n",
    "#df_mean_compound_stockmarket"
   ]
  },
  {
   "cell_type": "code",
   "execution_count": 19,
   "metadata": {
    "collapsed": true
   },
   "outputs": [],
   "source": [
    "# Compining CSV files. Getting all mean compound for target terms on one table \n",
    "file_stockmarket = \"stockmarket.csv\"\n",
    "file_DowJones = \"DowJones.csv\"\n",
    "file_NASDAQ = \"NASDAQ.csv\"\n",
    "file_NYSE = \"NYSE.csv\""
   ]
  },
  {
   "cell_type": "code",
   "execution_count": 20,
   "metadata": {
    "collapsed": true
   },
   "outputs": [],
   "source": [
    "stockmarket = pd.read_csv(file_stockmarket)\n",
    "DowJones = pd.read_csv(file_DowJones)\n",
    "NASDAQ = pd.read_csv(file_NASDAQ)\n",
    "NYSE = pd.read_csv(file_NYSE)"
   ]
  },
  {
   "cell_type": "code",
   "execution_count": 21,
   "metadata": {
    "scrolled": false
   },
   "outputs": [
    {
     "data": {
      "text/html": [
       "<div>\n",
       "<style>\n",
       "    .dataframe thead tr:only-child th {\n",
       "        text-align: right;\n",
       "    }\n",
       "\n",
       "    .dataframe thead th {\n",
       "        text-align: left;\n",
       "    }\n",
       "\n",
       "    .dataframe tbody tr th {\n",
       "        vertical-align: top;\n",
       "    }\n",
       "</style>\n",
       "<table border=\"1\" class=\"dataframe\">\n",
       "  <thead>\n",
       "    <tr style=\"text-align: right;\">\n",
       "      <th></th>\n",
       "      <th>Date</th>\n",
       "      <th>Compound_stockmarket</th>\n",
       "      <th>target dow</th>\n",
       "      <th>target nasdaq</th>\n",
       "      <th>target nyse</th>\n",
       "    </tr>\n",
       "  </thead>\n",
       "  <tbody>\n",
       "    <tr>\n",
       "      <th>0</th>\n",
       "      <td>2017-12-04</td>\n",
       "      <td>0.031549</td>\n",
       "      <td>0.023830</td>\n",
       "      <td>0.188898</td>\n",
       "      <td>0.349148</td>\n",
       "    </tr>\n",
       "    <tr>\n",
       "      <th>1</th>\n",
       "      <td>2017-12-05</td>\n",
       "      <td>0.012240</td>\n",
       "      <td>-0.014471</td>\n",
       "      <td>0.153072</td>\n",
       "      <td>0.290614</td>\n",
       "    </tr>\n",
       "    <tr>\n",
       "      <th>2</th>\n",
       "      <td>2017-12-06</td>\n",
       "      <td>0.076982</td>\n",
       "      <td>-0.068465</td>\n",
       "      <td>0.257540</td>\n",
       "      <td>0.246785</td>\n",
       "    </tr>\n",
       "    <tr>\n",
       "      <th>3</th>\n",
       "      <td>2017-12-07</td>\n",
       "      <td>0.117893</td>\n",
       "      <td>-0.013719</td>\n",
       "      <td>0.312886</td>\n",
       "      <td>0.259690</td>\n",
       "    </tr>\n",
       "    <tr>\n",
       "      <th>4</th>\n",
       "      <td>2017-12-08</td>\n",
       "      <td>0.124872</td>\n",
       "      <td>0.197037</td>\n",
       "      <td>0.352862</td>\n",
       "      <td>0.130623</td>\n",
       "    </tr>\n",
       "    <tr>\n",
       "      <th>5</th>\n",
       "      <td>2017-12-11</td>\n",
       "      <td>0.107841</td>\n",
       "      <td>0.155555</td>\n",
       "      <td>0.332114</td>\n",
       "      <td>0.261354</td>\n",
       "    </tr>\n",
       "    <tr>\n",
       "      <th>6</th>\n",
       "      <td>2017-12-12</td>\n",
       "      <td>0.149188</td>\n",
       "      <td>0.177248</td>\n",
       "      <td>0.260784</td>\n",
       "      <td>0.260063</td>\n",
       "    </tr>\n",
       "    <tr>\n",
       "      <th>7</th>\n",
       "      <td>2017-12-13</td>\n",
       "      <td>0.102560</td>\n",
       "      <td>0.124631</td>\n",
       "      <td>0.312702</td>\n",
       "      <td>0.276952</td>\n",
       "    </tr>\n",
       "    <tr>\n",
       "      <th>8</th>\n",
       "      <td>2017-12-14</td>\n",
       "      <td>0.104646</td>\n",
       "      <td>0.095950</td>\n",
       "      <td>0.315387</td>\n",
       "      <td>0.311375</td>\n",
       "    </tr>\n",
       "  </tbody>\n",
       "</table>\n",
       "</div>"
      ],
      "text/plain": [
       "         Date  Compound_stockmarket  target dow  target nasdaq  target nyse\n",
       "0  2017-12-04              0.031549    0.023830       0.188898     0.349148\n",
       "1  2017-12-05              0.012240   -0.014471       0.153072     0.290614\n",
       "2  2017-12-06              0.076982   -0.068465       0.257540     0.246785\n",
       "3  2017-12-07              0.117893   -0.013719       0.312886     0.259690\n",
       "4  2017-12-08              0.124872    0.197037       0.352862     0.130623\n",
       "5  2017-12-11              0.107841    0.155555       0.332114     0.261354\n",
       "6  2017-12-12              0.149188    0.177248       0.260784     0.260063\n",
       "7  2017-12-13              0.102560    0.124631       0.312702     0.276952\n",
       "8  2017-12-14              0.104646    0.095950       0.315387     0.311375"
      ]
     },
     "execution_count": 21,
     "metadata": {},
     "output_type": "execute_result"
    }
   ],
   "source": [
    "stockmarket_DowJones = pd.merge(stockmarket, DowJones, how=\"inner\", on=\"Date\")\n",
    "stockmarket_DowJones_NASDAQ = pd.merge(stockmarket_DowJones,NASDAQ , how=\"inner\", on=\"Date\")\n",
    "stockmarket_DowJones_NASDAQ_NYSE = pd.merge(stockmarket_DowJones_NASDAQ, NYSE, how=\"inner\", on=\"Date\")\n",
    "terms_stocks1 = stockmarket_DowJones_NASDAQ_NYSE.drop(stockmarket_DowJones_NASDAQ_NYSE.index[[1,2,8,9]])\n",
    "terms_stocks1 = terms_stocks1.rename(columns={\"Compound_DowJones\":\"target dow\",\"Compound_NASDAQ\":\"target nasdaq\",\"Compound_NYSE\":\"target nyse\"}).reset_index(drop=True)\n",
    "#stocks1 = stocks1.drop(stocks1.index[10]).reset_index(drop=True)\n",
    "\n",
    "terms_stocks = terms_stocks1.drop(terms_stocks1.index[[0,10]]).reset_index(drop=True)\n",
    "\n",
    "terms_stocks"
   ]
  },
  {
   "cell_type": "code",
   "execution_count": 22,
   "metadata": {
    "collapsed": true
   },
   "outputs": [],
   "source": [
    "terms_stocks1.to_csv(\"target_terms_sameday.csv\")"
   ]
  },
  {
   "cell_type": "code",
   "execution_count": 23,
   "metadata": {},
   "outputs": [
    {
     "data": {
      "text/html": [
       "<div>\n",
       "<style>\n",
       "    .dataframe thead tr:only-child th {\n",
       "        text-align: right;\n",
       "    }\n",
       "\n",
       "    .dataframe thead th {\n",
       "        text-align: left;\n",
       "    }\n",
       "\n",
       "    .dataframe tbody tr th {\n",
       "        vertical-align: top;\n",
       "    }\n",
       "</style>\n",
       "<table border=\"1\" class=\"dataframe\">\n",
       "  <thead>\n",
       "    <tr style=\"text-align: right;\">\n",
       "      <th></th>\n",
       "      <th>target dow prior</th>\n",
       "      <th>target nasdaq prior</th>\n",
       "      <th>target nyse prior</th>\n",
       "    </tr>\n",
       "  </thead>\n",
       "  <tbody>\n",
       "    <tr>\n",
       "      <th>0</th>\n",
       "      <td>0.112647</td>\n",
       "      <td>0.226000</td>\n",
       "      <td>0.216636</td>\n",
       "    </tr>\n",
       "    <tr>\n",
       "      <th>1</th>\n",
       "      <td>0.023830</td>\n",
       "      <td>0.188898</td>\n",
       "      <td>0.349148</td>\n",
       "    </tr>\n",
       "    <tr>\n",
       "      <th>2</th>\n",
       "      <td>-0.014471</td>\n",
       "      <td>0.153072</td>\n",
       "      <td>0.290614</td>\n",
       "    </tr>\n",
       "    <tr>\n",
       "      <th>3</th>\n",
       "      <td>-0.068465</td>\n",
       "      <td>0.257540</td>\n",
       "      <td>0.246785</td>\n",
       "    </tr>\n",
       "    <tr>\n",
       "      <th>4</th>\n",
       "      <td>-0.013719</td>\n",
       "      <td>0.312886</td>\n",
       "      <td>0.259690</td>\n",
       "    </tr>\n",
       "    <tr>\n",
       "      <th>5</th>\n",
       "      <td>0.197037</td>\n",
       "      <td>0.352862</td>\n",
       "      <td>0.130623</td>\n",
       "    </tr>\n",
       "    <tr>\n",
       "      <th>6</th>\n",
       "      <td>0.155555</td>\n",
       "      <td>0.332114</td>\n",
       "      <td>0.261354</td>\n",
       "    </tr>\n",
       "    <tr>\n",
       "      <th>7</th>\n",
       "      <td>0.177248</td>\n",
       "      <td>0.260784</td>\n",
       "      <td>0.260063</td>\n",
       "    </tr>\n",
       "    <tr>\n",
       "      <th>8</th>\n",
       "      <td>0.124631</td>\n",
       "      <td>0.312702</td>\n",
       "      <td>0.276952</td>\n",
       "    </tr>\n",
       "  </tbody>\n",
       "</table>\n",
       "</div>"
      ],
      "text/plain": [
       "   target dow prior  target nasdaq prior  target nyse prior\n",
       "0          0.112647             0.226000           0.216636\n",
       "1          0.023830             0.188898           0.349148\n",
       "2         -0.014471             0.153072           0.290614\n",
       "3         -0.068465             0.257540           0.246785\n",
       "4         -0.013719             0.312886           0.259690\n",
       "5          0.197037             0.352862           0.130623\n",
       "6          0.155555             0.332114           0.261354\n",
       "7          0.177248             0.260784           0.260063\n",
       "8          0.124631             0.312702           0.276952"
      ]
     },
     "execution_count": 23,
     "metadata": {},
     "output_type": "execute_result"
    }
   ],
   "source": [
    "terms_stocks2 = terms_stocks1.drop(terms_stocks1.index[[9,10]]).rename(columns = {\"target dow\": \"target dow prior\",\"target nasdaq\": \"target nasdaq prior\",\"target nyse\": \"target nyse prior\"})\n",
    "terms_stocks2 = terms_stocks2.drop(['Date','Compound_stockmarket'], axis=1)\n",
    "terms_stocks2"
   ]
  },
  {
   "cell_type": "code",
   "execution_count": 24,
   "metadata": {},
   "outputs": [
    {
     "data": {
      "text/html": [
       "<div>\n",
       "<style>\n",
       "    .dataframe thead tr:only-child th {\n",
       "        text-align: right;\n",
       "    }\n",
       "\n",
       "    .dataframe thead th {\n",
       "        text-align: left;\n",
       "    }\n",
       "\n",
       "    .dataframe tbody tr th {\n",
       "        vertical-align: top;\n",
       "    }\n",
       "</style>\n",
       "<table border=\"1\" class=\"dataframe\">\n",
       "  <thead>\n",
       "    <tr style=\"text-align: right;\">\n",
       "      <th></th>\n",
       "      <th>Date</th>\n",
       "      <th>target dow</th>\n",
       "      <th>target nasdaq</th>\n",
       "      <th>target nyse</th>\n",
       "      <th>target dow prior</th>\n",
       "      <th>target nasdaq prior</th>\n",
       "      <th>target nyse prior</th>\n",
       "    </tr>\n",
       "  </thead>\n",
       "  <tbody>\n",
       "    <tr>\n",
       "      <th>0</th>\n",
       "      <td>2017-12-04</td>\n",
       "      <td>0.023830</td>\n",
       "      <td>0.188898</td>\n",
       "      <td>0.349148</td>\n",
       "      <td>0.112647</td>\n",
       "      <td>0.226000</td>\n",
       "      <td>0.216636</td>\n",
       "    </tr>\n",
       "    <tr>\n",
       "      <th>1</th>\n",
       "      <td>2017-12-05</td>\n",
       "      <td>-0.014471</td>\n",
       "      <td>0.153072</td>\n",
       "      <td>0.290614</td>\n",
       "      <td>0.023830</td>\n",
       "      <td>0.188898</td>\n",
       "      <td>0.349148</td>\n",
       "    </tr>\n",
       "    <tr>\n",
       "      <th>2</th>\n",
       "      <td>2017-12-06</td>\n",
       "      <td>-0.068465</td>\n",
       "      <td>0.257540</td>\n",
       "      <td>0.246785</td>\n",
       "      <td>-0.014471</td>\n",
       "      <td>0.153072</td>\n",
       "      <td>0.290614</td>\n",
       "    </tr>\n",
       "    <tr>\n",
       "      <th>3</th>\n",
       "      <td>2017-12-07</td>\n",
       "      <td>-0.013719</td>\n",
       "      <td>0.312886</td>\n",
       "      <td>0.259690</td>\n",
       "      <td>-0.068465</td>\n",
       "      <td>0.257540</td>\n",
       "      <td>0.246785</td>\n",
       "    </tr>\n",
       "    <tr>\n",
       "      <th>4</th>\n",
       "      <td>2017-12-08</td>\n",
       "      <td>0.197037</td>\n",
       "      <td>0.352862</td>\n",
       "      <td>0.130623</td>\n",
       "      <td>-0.013719</td>\n",
       "      <td>0.312886</td>\n",
       "      <td>0.259690</td>\n",
       "    </tr>\n",
       "    <tr>\n",
       "      <th>5</th>\n",
       "      <td>2017-12-11</td>\n",
       "      <td>0.155555</td>\n",
       "      <td>0.332114</td>\n",
       "      <td>0.261354</td>\n",
       "      <td>0.197037</td>\n",
       "      <td>0.352862</td>\n",
       "      <td>0.130623</td>\n",
       "    </tr>\n",
       "    <tr>\n",
       "      <th>6</th>\n",
       "      <td>2017-12-12</td>\n",
       "      <td>0.177248</td>\n",
       "      <td>0.260784</td>\n",
       "      <td>0.260063</td>\n",
       "      <td>0.155555</td>\n",
       "      <td>0.332114</td>\n",
       "      <td>0.261354</td>\n",
       "    </tr>\n",
       "    <tr>\n",
       "      <th>7</th>\n",
       "      <td>2017-12-13</td>\n",
       "      <td>0.124631</td>\n",
       "      <td>0.312702</td>\n",
       "      <td>0.276952</td>\n",
       "      <td>0.177248</td>\n",
       "      <td>0.260784</td>\n",
       "      <td>0.260063</td>\n",
       "    </tr>\n",
       "    <tr>\n",
       "      <th>8</th>\n",
       "      <td>2017-12-14</td>\n",
       "      <td>0.095950</td>\n",
       "      <td>0.315387</td>\n",
       "      <td>0.311375</td>\n",
       "      <td>0.124631</td>\n",
       "      <td>0.312702</td>\n",
       "      <td>0.276952</td>\n",
       "    </tr>\n",
       "  </tbody>\n",
       "</table>\n",
       "</div>"
      ],
      "text/plain": [
       "         Date  target dow  target nasdaq  target nyse  target dow prior  \\\n",
       "0  2017-12-04    0.023830       0.188898     0.349148          0.112647   \n",
       "1  2017-12-05   -0.014471       0.153072     0.290614          0.023830   \n",
       "2  2017-12-06   -0.068465       0.257540     0.246785         -0.014471   \n",
       "3  2017-12-07   -0.013719       0.312886     0.259690         -0.068465   \n",
       "4  2017-12-08    0.197037       0.352862     0.130623         -0.013719   \n",
       "5  2017-12-11    0.155555       0.332114     0.261354          0.197037   \n",
       "6  2017-12-12    0.177248       0.260784     0.260063          0.155555   \n",
       "7  2017-12-13    0.124631       0.312702     0.276952          0.177248   \n",
       "8  2017-12-14    0.095950       0.315387     0.311375          0.124631   \n",
       "\n",
       "   target nasdaq prior  target nyse prior  \n",
       "0             0.226000           0.216636  \n",
       "1             0.188898           0.349148  \n",
       "2             0.153072           0.290614  \n",
       "3             0.257540           0.246785  \n",
       "4             0.312886           0.259690  \n",
       "5             0.352862           0.130623  \n",
       "6             0.332114           0.261354  \n",
       "7             0.260784           0.260063  \n",
       "8             0.312702           0.276952  "
      ]
     },
     "execution_count": 24,
     "metadata": {},
     "output_type": "execute_result"
    }
   ],
   "source": [
    "final_stock_terms = pd.concat([terms_stocks, terms_stocks2], axis=1, join_axes=[terms_stocks.index])\n",
    "final_stock_terms = final_stock_terms.drop(['Compound_stockmarket'], axis=1)\n",
    "final_stock_terms"
   ]
  },
  {
   "cell_type": "code",
   "execution_count": 25,
   "metadata": {
    "collapsed": true
   },
   "outputs": [],
   "source": [
    "final_stock_terms.to_csv(\"target_terms.csv\")"
   ]
  },
  {
   "cell_type": "code",
   "execution_count": null,
   "metadata": {
    "collapsed": true
   },
   "outputs": [],
   "source": []
  }
 ],
 "metadata": {
  "kernelspec": {
   "display_name": "Python 3",
   "language": "python",
   "name": "python3"
  },
  "language_info": {
   "codemirror_mode": {
    "name": "ipython",
    "version": 3
   },
   "file_extension": ".py",
   "mimetype": "text/x-python",
   "name": "python",
   "nbconvert_exporter": "python",
   "pygments_lexer": "ipython3",
   "version": "3.6.2"
  }
 },
 "nbformat": 4,
 "nbformat_minor": 2
}
