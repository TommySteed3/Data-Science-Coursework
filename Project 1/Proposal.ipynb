{
 "cells": [
  {
   "cell_type": "markdown",
   "metadata": {},
   "source": [
    "# PROPOSAL\n",
    "\n",
    "**Project Title**: Market Sentiment Analysis\n",
    "\n",
    "**Team Members**: Joshua Bui, Tommy Steed, Irkali Intskirveli, Ethan Litke\n",
    "\n",
    "**Project Descriptions/Outline**: To understand the relationships between market performance and social media sentiment (i.e. Twitter)\n",
    "\n",
    "**Research Question**: Can a market performance be predicted by social media?\n",
    "\n",
    "**Datasets**: Twitter API, Yahoo API, Google Finance API\n",
    "\n",
    "**Task Breakdowns**: Trello Taskboard (https://trello.com/b/0SXVRjQZ/project-1)\n",
    "\n",
    "**Project NOTES**:\n",
    "1. Twitter Sentiment Analysis (Target User / Term) v. US Market Performance (Exchange Rates/GDP/)\n",
    "2. Target User - financial publications (WSJ, Financial Times, etc.) - TASK: Irakli & Ethan\n",
    "3. Different users (hedge fund managers, people, gov’t officials)\n",
    "4. Target Term - public (Twitter API) - TASK: Irakli & Ethan\n",
    "5. Stock Data (Yahoo API & Google Finance API) - TASK: Tommy & Joshua\n"
   ]
  },
  {
   "cell_type": "code",
   "execution_count": null,
   "metadata": {
    "collapsed": true
   },
   "outputs": [],
   "source": []
  }
 ],
 "metadata": {
  "kernelspec": {
   "display_name": "Python 3",
   "language": "python",
   "name": "python3"
  },
  "language_info": {
   "codemirror_mode": {
    "name": "ipython",
    "version": 3
   },
   "file_extension": ".py",
   "mimetype": "text/x-python",
   "name": "python",
   "nbconvert_exporter": "python",
   "pygments_lexer": "ipython3",
   "version": "3.6.2"
  }
 },
 "nbformat": 4,
 "nbformat_minor": 2
}
